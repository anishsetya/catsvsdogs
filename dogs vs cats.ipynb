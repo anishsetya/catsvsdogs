{
 "cells": [
  {
   "cell_type": "code",
   "execution_count": 2,
   "metadata": {},
   "outputs": [],
   "source": [
    "import numpy as np \n",
    "import tensorflow as tf \n",
    "import  cv2\n",
    "import os \n",
    "import pickle \n",
    "import matplotlib.pyplot as plt\n",
    "import random"
   ]
  },
  {
   "cell_type": "code",
   "execution_count": 3,
   "metadata": {},
   "outputs": [],
   "source": [
    "DIRECTORY = r'training_set'\n",
    "\n",
    "CATEGORIES = ['cats', 'dogs']"
   ]
  },
  {
   "cell_type": "code",
   "execution_count": 4,
   "metadata": {},
   "outputs": [],
   "source": [
    "data = []\n",
    "IMG_SIZE=100\n",
    "for category in CATEGORIES:\n",
    "    path = os.path.join(DIRECTORY, category)\n",
    "    for img in os.listdir(path):\n",
    "        img_path = os.path.join(path, img)\n",
    "        #print(img_path)\n",
    "        label = CATEGORIES.index(category)\n",
    "        arr = cv2.imread(img_path, cv2.IMREAD_GRAYSCALE)\n",
    "        new_arr = cv2.resize(arr, (100,100))\n",
    "        data.append([new_arr, label])\n"
   ]
  },
  {
   "cell_type": "code",
   "execution_count": 5,
   "metadata": {},
   "outputs": [],
   "source": [
    "random.shuffle(data)"
   ]
  },
  {
   "cell_type": "code",
   "execution_count": 6,
   "metadata": {},
   "outputs": [],
   "source": [
    "X_train = []\n",
    "y_train = []\n",
    "\n",
    "\n",
    "for features, label in data:\n",
    "    X_train.append(features)\n",
    "    y_train.append(label)\n",
    "\n",
    "\n",
    "\n",
    "X_train= np.array(X_train)\n",
    "y_train = np.array(y_train)\n"
   ]
  },
  {
   "cell_type": "code",
   "execution_count": 7,
   "metadata": {},
   "outputs": [
    {
     "data": {
      "text/plain": [
       "array([[0.65098039, 0.66666667, 0.67843137, ..., 0.96470588, 0.96470588,\n",
       "        0.96470588],\n",
       "       [0.65490196, 0.67058824, 0.68235294, ..., 0.96470588, 0.96470588,\n",
       "        0.96470588],\n",
       "       [0.65882353, 0.6745098 , 0.68627451, ..., 0.96470588, 0.96470588,\n",
       "        0.96470588],\n",
       "       ...,\n",
       "       [0.56862745, 0.62352941, 0.63137255, ..., 0.72156863, 0.6745098 ,\n",
       "        0.71372549],\n",
       "       [0.60392157, 0.65882353, 0.62352941, ..., 0.70588235, 0.71764706,\n",
       "        0.6745098 ],\n",
       "       [0.59607843, 0.64705882, 0.61960784, ..., 0.70196078, 0.75294118,\n",
       "        0.67843137]])"
      ]
     },
     "execution_count": 7,
     "metadata": {},
     "output_type": "execute_result"
    }
   ],
   "source": [
    "X_train=X_train/255\n",
    "X_train[0]"
   ]
  },
  {
   "cell_type": "code",
   "execution_count": 8,
   "metadata": {},
   "outputs": [],
   "source": [
    "DIRECTORY = r'test_set'\n",
    "data = []\n",
    "IMG_SIZE=100\n",
    "for category in CATEGORIES:\n",
    "    path = os.path.join(DIRECTORY, category)\n",
    "    for img in os.listdir(path):\n",
    "        img_path = os.path.join(path, img)\n",
    "        #print(img_path)\n",
    "        label = CATEGORIES.index(category)\n",
    "        arr = cv2.imread(img_path, cv2.IMREAD_GRAYSCALE)\n",
    "        new_arr = cv2.resize(arr, (100,100))\n",
    "        data.append([new_arr, label])"
   ]
  },
  {
   "cell_type": "code",
   "execution_count": 9,
   "metadata": {},
   "outputs": [
    {
     "data": {
      "text/plain": [
       "array([[0.1372549 , 0.1254902 , 0.1372549 , ..., 0.53333333, 0.53333333,\n",
       "        0.55686275],\n",
       "       [0.10980392, 0.14117647, 0.16078431, ..., 0.52941176, 0.54117647,\n",
       "        0.54509804],\n",
       "       [0.15294118, 0.16862745, 0.15686275, ..., 0.55686275, 0.54117647,\n",
       "        0.54901961],\n",
       "       ...,\n",
       "       [0.58431373, 0.54509804, 0.6627451 , ..., 0.74117647, 0.70588235,\n",
       "        0.70588235],\n",
       "       [0.59215686, 0.67843137, 0.70588235, ..., 0.7372549 , 0.70588235,\n",
       "        0.70980392],\n",
       "       [0.60784314, 0.58823529, 0.64313725, ..., 0.72941176, 0.70980392,\n",
       "        0.70980392]])"
      ]
     },
     "execution_count": 9,
     "metadata": {},
     "output_type": "execute_result"
    }
   ],
   "source": [
    "random.shuffle(data)\n",
    "X_test = []\n",
    "y_test = []\n",
    "\n",
    "\n",
    "for features, label in data:\n",
    "    X_test.append(features)\n",
    "    y_test.append(label)\n",
    "\n",
    "\n",
    "\n",
    "X_test= np.array(X_test)\n",
    "y_test = np.array(y_test)\n",
    "X_test=X_test/255\n",
    "X_test[0]"
   ]
  },
  {
   "cell_type": "code",
   "execution_count": 10,
   "metadata": {},
   "outputs": [],
   "source": [
    "from keras.models import Sequential\n",
    "from keras.layers import Conv2D, MaxPooling2D, Dense, Flatten"
   ]
  },
  {
   "cell_type": "code",
   "execution_count": 11,
   "metadata": {},
   "outputs": [],
   "source": [
    "model = Sequential()\n",
    "\n",
    "model.add(Conv2D(64, (3,3), activation = 'relu'))\n",
    "model.add(MaxPooling2D((2,2)))\n",
    "\n",
    "model.add(Conv2D(64, (3,3), activation = 'relu'))\n",
    "model.add(MaxPooling2D((2,2)))\n",
    "\n",
    "model.add(Flatten())\n",
    "\n",
    "model.add(Dense(128, input_shape = X_train.shape[1:], activation = 'relu'))\n",
    "\n",
    "model.add(Dense(2, activation = 'softmax'))\n"
   ]
  },
  {
   "cell_type": "code",
   "execution_count": 12,
   "metadata": {},
   "outputs": [],
   "source": [
    "model.compile(optimizer='adam',\n",
    "              loss='sparse_categorical_crossentropy',\n",
    "              metrics=['accuracy'])\n",
    "\n"
   ]
  },
  {
   "cell_type": "code",
   "execution_count": 13,
   "metadata": {},
   "outputs": [],
   "source": [
    "X_train = X_train.reshape(-1, 100, 100, 1)\n",
    "X_test= X_test.reshape(-1,100,100,1)\n"
   ]
  },
  {
   "cell_type": "code",
   "execution_count": 14,
   "metadata": {},
   "outputs": [
    {
     "name": "stdout",
     "output_type": "stream",
     "text": [
      "Epoch 1/5\n",
      "251/251 [==============================] - 144s 565ms/step - loss: 0.6956 - accuracy: 0.5463\n",
      "Epoch 2/5\n",
      "251/251 [==============================] - 127s 505ms/step - loss: 0.6332 - accuracy: 0.6421\n",
      "Epoch 3/5\n",
      "251/251 [==============================] - 127s 507ms/step - loss: 0.5363 - accuracy: 0.7368\n",
      "Epoch 4/5\n",
      "251/251 [==============================] - 150s 598ms/step - loss: 0.4559 - accuracy: 0.7854\n",
      "Epoch 5/5\n",
      "251/251 [==============================] - 146s 582ms/step - loss: 0.3753 - accuracy: 0.8296\n"
     ]
    },
    {
     "data": {
      "text/plain": [
       "<keras.callbacks.History at 0x7fb697a65b80>"
      ]
     },
     "execution_count": 14,
     "metadata": {},
     "output_type": "execute_result"
    }
   ],
   "source": [
    "model.fit(X_train, y_train, epochs=5)"
   ]
  },
  {
   "cell_type": "code",
   "execution_count": 15,
   "metadata": {},
   "outputs": [
    {
     "name": "stdout",
     "output_type": "stream",
     "text": [
      "64/64 [==============================] - 10s 145ms/step - loss: 0.5557 - accuracy: 0.7395\n"
     ]
    }
   ],
   "source": [
    "test_loss, test_acc = model.evaluate(X_test, y_test, verbose=1) "
   ]
  },
  {
   "cell_type": "code",
   "execution_count": null,
   "metadata": {},
   "outputs": [],
   "source": []
  }
 ],
 "metadata": {
  "kernelspec": {
   "display_name": "Python 3",
   "language": "python",
   "name": "python3"
  },
  "language_info": {
   "codemirror_mode": {
    "name": "ipython",
    "version": 3
   },
   "file_extension": ".py",
   "mimetype": "text/x-python",
   "name": "python",
   "nbconvert_exporter": "python",
   "pygments_lexer": "ipython3",
   "version": "3.8.10"
  }
 },
 "nbformat": 4,
 "nbformat_minor": 4
}
